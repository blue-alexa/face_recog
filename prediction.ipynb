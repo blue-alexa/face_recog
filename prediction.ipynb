{
 "cells": [
  {
   "cell_type": "code",
   "execution_count": null,
   "metadata": {},
   "outputs": [],
   "source": [
    "import numpy as np\n",
    "import os\n",
    "import scipy.linalg as linalg\n",
    "from scipy.stats import multivariate_normal\n",
    "import cv2\n",
    "from datetime import datetime, timedelta\n",
    "import time"
   ]
  },
  {
   "cell_type": "code",
   "execution_count": null,
   "metadata": {},
   "outputs": [],
   "source": [
    "# take a series of images within video\n",
    "def test_image(test_path, resolution):\n",
    "    \"\"\"\n",
    "    Take 5 test images with face from vedio\n",
    "    \n",
    "    Input:\n",
    "    -image_path: path of image folder to store captured images.\n",
    "    -resolution: resize resolution, (px, px)\n",
    "    \n",
    "    Output:\n",
    "    -n images with faces stored in designiated image folder.\n",
    "    \"\"\"\n",
    "    # senitize path and create folder if not exists\n",
    "    test_path = test_path\n",
    "    if not test_path.endswith('\\\\'):\n",
    "        test_path +='\\\\'\n",
    "    if not os.path.exists(test_path):\n",
    "        os.mkdir(test_path)\n",
    "\n",
    "    img_id = 0\n",
    "    start = False\n",
    "    \n",
    "    oldtime = datetime.now()\n",
    "    \n",
    "    cap = cv2.VideoCapture(0)\n",
    "    face_cascade = cv2.CascadeClassifier('haarcascade_frontalface_default.xml')\n",
    "    \n",
    "    flatimages = list()\n",
    "    \n",
    "    while(img_id<5):\n",
    "        # Capture frame-by-frame\n",
    "        ret, frame = cap.read()\n",
    "\n",
    "        # Our operations on the frame come here\n",
    "        gray = cv2.cvtColor(frame, cv2.COLOR_BGR2GRAY)\n",
    "\n",
    "        # face tracking on gray image\n",
    "        faces = face_cascade.detectMultiScale(gray, 1.3, 5)\n",
    "\n",
    "        # Display the resulting frame  \n",
    "        for (x,y,w,h) in faces:\n",
    "            cv2.rectangle(gray,(x,y),(x+w,y+h),(255,0,0),2)\n",
    "            roi_gray = gray[y:y+h, x:x+w]\n",
    "        \n",
    "        # Keyboard interpution or start image acquire.\n",
    "        if cv2.waitKey(1) & 0xFF == ord('s'):\n",
    "            start = True\n",
    "            oldtime = datetime.now()\n",
    "        elif cv2.waitKey(1) & 0xFF == ord('q'):\n",
    "            break\n",
    "            \n",
    "        # take image after 1 second if face is detected.\n",
    "        newtime = datetime.now()\n",
    "        diff = (newtime-oldtime).seconds\n",
    "\n",
    "        # take 5 face samples as query\n",
    "        if len(faces) and start and diff>1:               \n",
    "            filename = 'img_%i.jpg'%img_id\n",
    "            img_gray = cv2.resize(roi_gray, resolution)\n",
    "            cv2.imwrite(str(test_path)+filename,img_gray)\n",
    "            flatimages.append(img_gray.ravel())\n",
    "            img_id+=1\n",
    "            oldtime = datetime.now()\n",
    "            \n",
    "        # instruction notes show in the video\n",
    "        if not start:\n",
    "            cv2.putText(gray, \"Press s to start, press q to quit!\", (20, 20), cv2.FONT_HERSHEY_SIMPLEX, 0.7,(255,255,255),2)\n",
    "        else:\n",
    "            cv2.putText(gray, \"Analyzing {0}%\".format(img_id*20), (20, 20), cv2.FONT_HERSHEY_SIMPLEX, 0.7,(255,255,255),2)\n",
    "        \n",
    "        cv2.imshow('frame',gray)\n",
    "        faces = None\n",
    "\n",
    "    # When everything done, release the capture\n",
    "    cap.release()\n",
    "    cv2.destroyAllWindows()\n",
    "    \n",
    "    return np.asarray(flatimages)"
   ]
  },
  {
   "cell_type": "code",
   "execution_count": null,
   "metadata": {},
   "outputs": [],
   "source": [
    "query = test_image('test', (50,50))"
   ]
  },
  {
   "cell_type": "code",
   "execution_count": null,
   "metadata": {},
   "outputs": [],
   "source": [
    "query"
   ]
  },
  {
   "cell_type": "code",
   "execution_count": null,
   "metadata": {},
   "outputs": [],
   "source": [
    "npzfile = np.load('mean_eigenvectors_sigma.npz')\n",
    "mu = npzfile['mu']\n",
    "V = npzfile['V'][:, 0:2]\n"
   ]
  },
  {
   "cell_type": "code",
   "execution_count": null,
   "metadata": {},
   "outputs": [],
   "source": [
    "npzfile = np.load('class0_stats.npz')\n",
    "N0 = npzfile['N0'][0]\n",
    "mu0 = npzfile['mu0']\n",
    "c0 = npzfile['c0']"
   ]
  },
  {
   "cell_type": "code",
   "execution_count": null,
   "metadata": {},
   "outputs": [],
   "source": [
    "npzfile = np.load('class1_stats.npz')\n",
    "N1 = npzfile['N1'][0]\n",
    "mu1 = npzfile['mu1']\n",
    "c1 = npzfile['c1']"
   ]
  },
  {
   "cell_type": "code",
   "execution_count": null,
   "metadata": {},
   "outputs": [],
   "source": [
    "def pred_query(query):\n",
    "    P2 = np.dot(query-mu, V)\n",
    "    r\n",
    "    pdf0 = multivariate_normal.pdf(P2, mean=mu0, cov=c0)\n",
    "    pdf1 = multivariate_normal.pdf(P2, mean=mu1, cov=c1)\n",
    "    probs_0 = N0*pdf0/(N0*pdf0+N1*pdf1)\n",
    "    probs_1 = N1*pdf1/(N0*pdf0+N1*pdf1)\n",
    "\n",
    "    pred = np.zeros((5,))\n",
    "    pred.fill(np.nan)\n",
    "    pred[probs_0>probs_1] = 0\n",
    "    pred[probs_0<probs_1] = 1\n",
    "    \n",
    "    return pred"
   ]
  },
  {
   "cell_type": "code",
   "execution_count": 13,
   "metadata": {},
   "outputs": [],
   "source": [
    "P2 = np.dot(query-mu, V)\n",
    "pdf0 = multivariate_normal.pdf(P2, mean=mu0, cov=c0)r\n",
    "pdf1 = multivariate_normal.pdf(P2, mean=mu1, cov=c1)"
   ]
  },
  {
   "cell_type": "code",
   "execution_count": null,
   "metadata": {},
   "outputs": [],
   "source": [
    "pdf0, pdf1"
   ]
  },
  {
   "cell_type": "code",
   "execution_count": null,
   "metadata": {},
   "outputs": [],
   "source": [
    "probs_0 = N0*pdf0/(N0*pdf0+N1*pdf1)\n",
    "probs_1 = N1*pdf1/(N0*pdf0+N1*pdf1)\n",
    "\n",
    "pred = np.zeros((5,))\n",
    "pred.fill(np.nan)\n",
    "pred[probs_0>probs_1] = 0\n",
    "pred[probs_0<probs_1] = 1"
   ]
  },
  {
   "cell_type": "code",
   "execution_count": null,
   "metadata": {},
   "outputs": [],
   "source": [
    "pdf0 = multivariate_normal.pdf(P2, mean=mu0, cov=c0)\n",
    "pdf1 = multivariate_normal.pdf(P2, mean=mu1, cov=rc1)\n",
    "probs_0 = N0*pdf0/(N0*pdf0+N1*pdf1)\n",
    "probs_1 = N1*pdf1/(N0*pdf0+N1*pdf1)\n",
    "\n",
    "pred = np.zeros_like((5,))\n",
    "pred.fill(np.nan)\n",
    "pred[probs_0>probs_1] = 0\n",
    "pred[probs_0<probs_1] = 1"
   ]
  },
  {
   "cell_type": "code",
   "execution_count": null,
   "metadata": {},
   "outputs": [],
   "source": [
    "pred = pred_query(query)    "
   ]
  },
  {
   "cell_type": "code",
   "execution_count": null,
   "metadata": {},
   "outputs": [],
   "source": [
    "predicted_classes = np.unique(pred) \n",
    "bin_counts = list()\n",
    "for i in range(len(predicted_classes)):\n",
    "    bin_counts.append(np.sum(pred==predicted_classes[i]))\n",
    "\n",
    "counts = bin_counts[np.argmax(bin_counts)]\n",
    "class_id = predicted_classes[np.argmax(bin_counts)]r\n",
    "class_id, counts\n",
    "\n",
    "if class_id == 0:\n",
    "    print (\"Predict Fei\")\n",
    "elif class_id == 1:\n",
    "    print (\"Predict Weiya\")\n",
    "elif class_id == np.nan:\n",
    "    print (\"Can not predict\")\n"
   ]
  },
  {
   "cell_type": "code",
   "execution_count": null,
   "metadata": {
    "collapsed": true
   },
   "outputs": [],
   "source": []
  }
 ],
 "metadata": {
  "anaconda-cloud": {},
  "kernelspec": {
   "display_name": "Python (tensorflow)",
   "language": "python",
   "name": "tensorflow"
  },
  "language_info": {
   "codemirror_mode": {
    "name": "ipython",
    "version": 3
   },
   "file_extension": ".py",
   "mimetype": "text/x-python",
   "name": "python",
   "nbconvert_exporter": "python",
   "pygments_lexer": "ipython3",
   "version": "3.5.5"
  }
 },
 "nbformat": 4,
 "nbformat_minor": 1
}
