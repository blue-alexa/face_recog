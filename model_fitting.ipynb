{
 "cells": [
  {
   "cell_type": "code",
   "execution_count": null,
   "metadata": {},
   "outputs": [],
   "source": [
    "import matplotlib.pyplot as plt\n",
    "import matplotlib.image as mpimg\n",
    "import numpy as np\n",
    "import os\n",
    "import scipy.linalg as linalg\n",
    "from scipy.stats import multivariate_normal"
   ]
  },
  {
   "cell_type": "code",
   "execution_count": null,
   "metadata": {},
   "outputs": [],
   "source": [
    "%matplotlib inline"
   ]
  },
  {
   "cell_type": "code",
   "execution_count": null,
   "metadata": {},
   "outputs": [],
   "source": [
    "# converting from NX50X50 array into NX2500 array\n",
    "flatimages = list()\n",
    "labels = list()\n",
    "face_path = 'faces2'\n",
    "\n",
    "for file in os.listdir(face_path):\n",
    "    if file.endswith('.jpg'):\n",
    "        class_id = int(file.split('_')[0].lstrip('c'))\n",
    "        img = mpimg.imread(os.path.join(face_path, file))\n",
    "        flatimages.append(img.ravel())\n",
    "        labels.append(class_id)\n",
    "X = np.asarray(flatimages)\n",
    "y = np.asarray(labels)\n",
    "\n",
    "nrow, ncol = img.shape\n",
    "N = X.shape[0]"
   ]
  },
  {
   "cell_type": "code",
   "execution_count": null,
   "metadata": {},
   "outputs": [],
   "source": [
    "X.shape, y.shape"
   ]
  },
  {
   "cell_type": "code",
   "execution_count": null,
   "metadata": {},
   "outputs": [],
   "source": [
    "# shuffle images\n",
    "ind = np.random.permutation(N)\n",
    "X = X[ind,:]\n",
    "y = y[ind]\n",
    "X.shape, y.shape"
   ]
  },
  {
   "cell_type": "code",
   "execution_count": null,
   "metadata": {},
   "outputs": [],
   "source": [
    "# check training vector and labels\n",
    "plt.imshow(X[19].reshape(nrow,ncol), cmap='gray')\n",
    "print ('label is ', y[19])"
   ]
  },
  {
   "cell_type": "code",
   "execution_count": null,
   "metadata": {},
   "outputs": [],
   "source": [
    "# PCA\n",
    "# 1. find mean\n",
    "mu=np.mean(X,axis=0);print(mu.shape)\n",
    "\n",
    "# 2. sample center to zero mean\n",
    "Z=X-mu\n",
    "\n",
    "# 3. find covariance matrix\n",
    "C=np.cov(Z.T);print(C.shape)\n",
    "\n",
    "# 4. find eigenvalue and eigenvector\n",
    "[sigma,V]=linalg.eigh(C)\n"
   ]
  },
  {
   "cell_type": "code",
   "execution_count": null,
   "metadata": {},
   "outputs": [],
   "source": [
    "# columns of V are eigenvectors, two eigenvectors (v1, v2)\n",
    "# flip eigenvector matrix (left/right) and change eigenvalue order from big to small\n",
    "sigma=np.flipud(sigma)\n",
    "V=np.fliplr(V)"
   ]
  },
  {
   "cell_type": "code",
   "execution_count": null,
   "metadata": {},
   "outputs": [],
   "source": [
    "# get first 50 eigenvector for model fitting\n",
    "np.sum(sigma[:2])/np.sum(sigma)r"
   ]
  },
  {
   "cell_type": "code",
   "execution_count": null,
   "metadata": {},
   "outputs": [],
   "source": [
    "P2 = np.dot(Z, V[:, 0:2])rrr\n",
    "\n",
    "# plot first 2 principle components\n",
    "plt.figure(figsize=(10,8))\n",
    "ax = plt.gca()\n",
    "ax.spines['top'].set_color('none')\n",
    "ax.spines['bottom'].set_color('none')\n",
    "ax.spines['left'].set_color('none')\n",
    "ax.spines['right'].set_color('none')\n",
    "ax.xaxis.set_ticks_position('bottom')\n",
    "ax.spines['bottom'].set_position(('data', 0))\n",
    "ax.spines['bottom'].set_color('gray')\n",
    "ax.yaxis.set_ticks_position('left')\n",
    "ax.spines['left'].set_position(('data', 0))\n",
    "ax.spines['left'].set_color('gray')\n",
    "plt.scatter(P2[:,0][y==0], P2[:,1][y==0], c='red', s = 10, label = 'fei', alpha=0.7)\n",
    "plt.scatter(P2[:,0][y==1], P2[:,1][y==1], c='green', s = 10, label = 'weiya', alpha=0.7)\n",
    "ax.legend()\n",
    "plt.show()"
   ]
  },
  {
   "cell_type": "code",
   "execution_count": null,
   "metadata": {},
   "outputs": [],
   "source": [
    "# plot first 6 eigenfaces\n",
    "plt.figure(figsize=(10,8))\n",
    "for i in range(6):\n",
    "    plt.subplot(2,3,i+1)\n",
    "    plt.imshow(V[:,i].reshape(nrow,ncol), cmap='gray')\n",
    "plt.show()"
   ]
  },
  {
   "cell_type": "code",
   "execution_count": null,
   "metadata": {},
   "outputs": [],
   "source": [
    "#Bayesian modelr\n",
    "\n",
    "# collect first 50 principle component\n",
    "P2 = np.dot(Z, V[:,0:2])\n",
    "print (P2.shape)\n",
    "\n",
    "# sample counts of positive and negative class\n",
    "N0 = np.sum(y==0)\n",
    "N1 = np.sum(y==1)\n",
    "print (N0, N1, len(y))\n",
    "\n",
    "# training samples for positive and negative class\n",
    "X0 = P2[(y==0), :]\n",
    "X1 = P2[(y==1), :]\n",
    "print (len(X0), len(X1))\n",
    "\n",
    "# mean of positive and negative samples\n",
    "mu0 = np.mean(X0, axis=0)\n",
    "mu1 = np.mean(X1, axis=0)\n",
    "\n",
    "# covariance matrices for positive and negative samples\n",
    "c0 = np.cov(X0.T)\n",
    "c1 = np.cov(X1.T)"
   ]
  },
  {
   "cell_type": "code",
   "execution_count": null,
   "metadata": {},
   "outputs": [],
   "source": [
    "pdf0 = multivariate_normal.pdf(P2, mean=mu0, cov=c0)\n",
    "pdf1 = multivariate_normal.pdf(P2, mean=mu1, cov=c1)\n",
    "probs_0 = N0*pdf0/(N0*pdf0+N1*pdf1)\n",
    "probs_1 = N1*pdf1/(N0*pdf0+N1*pdf1)\n",
    "\n",
    "pred = np.zeros_like(y)\n",
    "pred.fill(np.nan)\n",
    "pred[probs_0>probs_1] = 0\n",
    "pred[probs_0<probs_1] = 1"
   ]
  },
  {
   "cell_type": "code",
   "execution_count": null,
   "metadata": {},
   "outputs": [],
   "source": [
    "TP = np.sum((pred==0)&(y==0))\n",
    "TN = np.sum((pred==1)&(y==1))\n",
    "FP = np.sum((pred==1)&(y==0))\n",
    "FN = np.sum((pred==0)&(y==1))\n",
    "TP, TN, FP, FN"
   ]
  },
  {
   "cell_type": "code",
   "execution_count": null,
   "metadata": {},
   "outputs": [],
   "source": [
    "# save eigenvectors and model parameters to file\n",
    "np.savez('mean_eigenvectors_sigma.npz', mu = mu, V = V, sigma = sigma)  \n",
    "\n",
    "np.savez('class0_stats.npz', N0 = np.array([N0]), mu0 = mu0, c0 = c0)\n",
    "np.savez('class1_stats.npz', N1 = np.array([N1]), mu1 = mu1, c1 = c1)"
   ]
  }
 ],
 "metadata": {
  "anaconda-cloud": {},
  "kernelspec": {
   "display_name": "Python (tensorflow)",
   "language": "python",
   "name": "tensorflow"
  },
  "language_info": {
   "codemirror_mode": {
    "name": "ipython",
    "version": 3
   },
   "file_extension": ".py",
   "mimetype": "text/x-python",
   "name": "python",
   "nbconvert_exporter": "python",
   "pygments_lexer": "ipython3",
   "version": "3.5.5"
  }
 },
 "nbformat": 4,
 "nbformat_minor": 1
}
